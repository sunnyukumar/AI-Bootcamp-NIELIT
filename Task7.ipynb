{
  "nbformat": 4,
  "nbformat_minor": 0,
  "metadata": {
    "colab": {
      "provenance": [],
      "authorship_tag": "ABX9TyPqcFmabhslUN9hNO9rhnbJ",
      "include_colab_link": true
    },
    "kernelspec": {
      "name": "python3",
      "display_name": "Python 3"
    },
    "language_info": {
      "name": "python"
    }
  },
  "cells": [
    {
      "cell_type": "markdown",
      "metadata": {
        "id": "view-in-github",
        "colab_type": "text"
      },
      "source": [
        "<a href=\"https://colab.research.google.com/github/Shiv-ux2025/AI-Bootcamp-NIELIT/blob/main/Task7.ipynb\" target=\"_parent\"><img src=\"https://colab.research.google.com/assets/colab-badge.svg\" alt=\"Open In Colab\"/></a>"
      ]
    },
    {
      "cell_type": "code",
      "execution_count": 1,
      "metadata": {
        "id": "dHV27fbztAn3",
        "colab": {
          "base_uri": "https://localhost:8080/"
        },
        "outputId": "6d288678-9ce0-4286-ef0f-c06622995be9"
      },
      "outputs": [
        {
          "output_type": "stream",
          "name": "stdout",
          "text": [
            "   Employee Data of CMF Pvt. Ltd.     Unnamed: 1           Unnamed: 2  \\\n",
            "0                             NaN            NaN                  NaN   \n",
            "1                   Employee Name  Employee Code      Date of Joining   \n",
            "2                           Suraj           1001  2022-01-05 00:00:00   \n",
            "3                           Arpit           1003  2022-01-20 00:00:00   \n",
            "4                          Hardik           1006  2022-07-27 00:00:00   \n",
            "5                           Mukul           1007  2022-10-20 00:00:00   \n",
            "6                           Krish           1009  2022-11-05 00:00:00   \n",
            "7                           Nakul           1005  2022-07-08 00:00:00   \n",
            "8                           Kunal           1008  2022-10-25 00:00:00   \n",
            "9                            Anuj           1002  2022-01-10 00:00:00   \n",
            "10                         Tushar           1004  2022-01-30 00:00:00   \n",
            "\n",
            "         Unnamed: 3       Unnamed: 4       Unnamed: 5  \\\n",
            "0               NaN              NaN              NaN   \n",
            "1   Department Code  Employee Salary  Department Name   \n",
            "2              2200            12000          Packing   \n",
            "3              2200            14000          Packing   \n",
            "4              2200             9500          Packing   \n",
            "5              2200             8500          Packing   \n",
            "6              2200            10000          Packing   \n",
            "7              3200            11000         Purchase   \n",
            "8              3200            16500         Purchase   \n",
            "9              3000            20000            Sales   \n",
            "10             3000            18000            Sales   \n",
            "\n",
            "                    Unnamed: 6     Unnamed: 7  \n",
            "0                          NaN            NaN  \n",
            "1          Department Location       Position  \n",
            "2   Second Floor, CMF building      Executive  \n",
            "3    First Floor, CMF building      Executive  \n",
            "4    First Floor, CMF building  Non Executive  \n",
            "5    First Floor, CMF building  Non Executive  \n",
            "6    First Floor, CMF building  Non Executive  \n",
            "7   Second Floor, CMF building      Executive  \n",
            "8   Second Floor, CMF building        Manager  \n",
            "9   Ground Floor, CMF building        Manager  \n",
            "10  Ground Floor, CMF building        Manager  \n"
          ]
        }
      ],
      "source": [
        "import pandas as pd\n",
        "df_excel=pd.read_excel('/content/Test data.xlsx',sheet_name='Sheet1')\n",
        "print(df_excel)"
      ]
    },
    {
      "cell_type": "markdown",
      "source": [],
      "metadata": {
        "id": "4l32qDMoutnj"
      }
    }
  ]
}