{
  "nbformat": 4,
  "nbformat_minor": 0,
  "metadata": {
    "colab": {
      "provenance": [],
      "authorship_tag": "ABX9TyN+7O86OTNy+CswvGXG5yCj",
      "include_colab_link": true
    },
    "kernelspec": {
      "name": "python3",
      "display_name": "Python 3"
    },
    "language_info": {
      "name": "python"
    }
  },
  "cells": [
    {
      "cell_type": "markdown",
      "metadata": {
        "id": "view-in-github",
        "colab_type": "text"
      },
      "source": [
        "<a href=\"https://colab.research.google.com/github/Shiv-ux2025/AI-Bootcamp-NIELIT/blob/main/Task_3.ipynb\" target=\"_parent\"><img src=\"https://colab.research.google.com/assets/colab-badge.svg\" alt=\"Open In Colab\"/></a>"
      ]
    },
    {
      "cell_type": "code",
      "execution_count": null,
      "metadata": {
        "colab": {
          "base_uri": "https://localhost:8080/"
        },
        "id": "tIEcx_WDOtOm",
        "outputId": "27dbc183-f463-4a24-b19a-6298a59eae77"
      },
      "outputs": [
        {
          "output_type": "stream",
          "name": "stdout",
          "text": [
            "Enter first Number3\n",
            "Enter Second Number6\n",
            "18\n"
          ]
        }
      ],
      "source": [
        "num1 = int(input(\"Enter first Number\"))\n",
        "num2 = int(input(\"Enter Second Number\"))\n",
        "result = num1*num2\n",
        "print(result)"
      ]
    }
  ]
}