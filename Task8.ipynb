{
  "nbformat": 4,
  "nbformat_minor": 0,
  "metadata": {
    "colab": {
      "provenance": [],
      "authorship_tag": "ABX9TyNmQ3efoDJIBFdBSycbEU4s",
      "include_colab_link": true
    },
    "kernelspec": {
      "name": "python3",
      "display_name": "Python 3"
    },
    "language_info": {
      "name": "python"
    }
  },
  "cells": [
    {
      "cell_type": "markdown",
      "metadata": {
        "id": "view-in-github",
        "colab_type": "text"
      },
      "source": [
        "<a href=\"https://colab.research.google.com/github/Shiv-ux2025/AI-Bootcamp-NIELIT/blob/main/Task8.ipynb\" target=\"_parent\"><img src=\"https://colab.research.google.com/assets/colab-badge.svg\" alt=\"Open In Colab\"/></a>"
      ]
    },
    {
      "cell_type": "code",
      "execution_count": 5,
      "metadata": {
        "id": "dHV27fbztAn3",
        "colab": {
          "base_uri": "https://localhost:8080/"
        },
        "outputId": "4041e4e3-0063-465a-a229-5c890b916864"
      },
      "outputs": [
        {
          "output_type": "stream",
          "name": "stdout",
          "text": [
            "  Employee Data of CMF Pvt. Ltd.     Unnamed: 1           Unnamed: 2  \\\n",
            "0                            NaN            NaN                  NaN   \n",
            "1                  Employee Name  Employee Code      Date of Joining   \n",
            "2                          Suraj           1001  2022-01-05 00:00:00   \n",
            "3                          Arpit           1003  2022-01-20 00:00:00   \n",
            "4                         Hardik           1006  2022-07-27 00:00:00   \n",
            "\n",
            "        Unnamed: 3       Unnamed: 4       Unnamed: 5  \\\n",
            "0              NaN              NaN              NaN   \n",
            "1  Department Code  Employee Salary  Department Name   \n",
            "2             2200            12000          Packing   \n",
            "3             2200            14000          Packing   \n",
            "4             2200             9500          Packing   \n",
            "\n",
            "                   Unnamed: 6     Unnamed: 7  \n",
            "0                         NaN            NaN  \n",
            "1         Department Location       Position  \n",
            "2  Second Floor, CMF building      Executive  \n",
            "3   First Floor, CMF building      Executive  \n",
            "4   First Floor, CMF building  Non Executive  \n",
            "   Employee Data of CMF Pvt. Ltd. Unnamed: 1           Unnamed: 2 Unnamed: 3  \\\n",
            "6                           Krish       1009  2022-11-05 00:00:00       2200   \n",
            "7                           Nakul       1005  2022-07-08 00:00:00       3200   \n",
            "8                           Kunal       1008  2022-10-25 00:00:00       3200   \n",
            "9                            Anuj       1002  2022-01-10 00:00:00       3000   \n",
            "10                         Tushar       1004  2022-01-30 00:00:00       3000   \n",
            "\n",
            "   Unnamed: 4 Unnamed: 5                  Unnamed: 6     Unnamed: 7  \n",
            "6       10000    Packing   First Floor, CMF building  Non Executive  \n",
            "7       11000   Purchase  Second Floor, CMF building      Executive  \n",
            "8       16500   Purchase  Second Floor, CMF building        Manager  \n",
            "9       20000      Sales  Ground Floor, CMF building        Manager  \n",
            "10      18000      Sales  Ground Floor, CMF building        Manager  \n",
            "<class 'pandas.core.frame.DataFrame'>\n",
            "RangeIndex: 11 entries, 0 to 10\n",
            "Data columns (total 8 columns):\n",
            " #   Column                          Non-Null Count  Dtype \n",
            "---  ------                          --------------  ----- \n",
            " 0   Employee Data of CMF Pvt. Ltd.  10 non-null     object\n",
            " 1   Unnamed: 1                      10 non-null     object\n",
            " 2   Unnamed: 2                      10 non-null     object\n",
            " 3   Unnamed: 3                      10 non-null     object\n",
            " 4   Unnamed: 4                      10 non-null     object\n",
            " 5   Unnamed: 5                      10 non-null     object\n",
            " 6   Unnamed: 6                      10 non-null     object\n",
            " 7   Unnamed: 7                      10 non-null     object\n",
            "dtypes: object(8)\n",
            "memory usage: 836.0+ bytes\n",
            "None\n",
            "       Employee Data of CMF Pvt. Ltd.     Unnamed: 1       Unnamed: 2  \\\n",
            "count                              10             10               10   \n",
            "unique                             10             10               10   \n",
            "top                     Employee Name  Employee Code  Date of Joining   \n",
            "freq                                1              1                1   \n",
            "\n",
            "        Unnamed: 3       Unnamed: 4 Unnamed: 5                 Unnamed: 6  \\\n",
            "count           10               10         10                         10   \n",
            "unique           4               10          4                          4   \n",
            "top           2200  Employee Salary    Packing  First Floor, CMF building   \n",
            "freq             5                1          5                          4   \n",
            "\n",
            "       Unnamed: 7  \n",
            "count          10  \n",
            "unique          4  \n",
            "top     Executive  \n",
            "freq            3  \n"
          ]
        }
      ],
      "source": [
        "import pandas as pd\n",
        "df_excel=pd.read_excel('/content/Test data.xlsx',sheet_name='Sheet1')\n",
        "print(df_excel.head())\n",
        "print(df_excel.tail())\n",
        "print(df_excel.info())\n",
        "print(df_excel.describe())"
      ]
    },
    {
      "cell_type": "markdown",
      "source": [],
      "metadata": {
        "id": "4l32qDMoutnj"
      }
    }
  ]
}